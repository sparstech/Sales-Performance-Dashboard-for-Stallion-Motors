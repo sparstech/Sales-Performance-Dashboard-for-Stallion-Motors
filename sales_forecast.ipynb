{
 "cells": [
  {
   "cell_type": "markdown",
   "id": "a9df0f25",
   "metadata": {},
   "source": [
    "# Stallion Motors — Forecasting (6-month)\n",
    "\n",
    "This notebook demonstrates two approaches for forecasting revenue: Prophet and seasonal ARIMA (pmdarima)."
   ]
  },
  {
   "cell_type": "code",
   "execution_count": null,
   "id": "efbd730b",
   "metadata": {},
   "outputs": [],
   "source": [
    "import pandas as pd\n",
    "import numpy as np\n",
    "from prophet import Prophet  # pip install prophet\n",
    "\n",
    "monthly = pd.read_csv('stallion_monthly_agg.csv', parse_dates=['ds'])\n",
    "monthly = monthly[['ds','Revenue']]\n",
    "monthly.head()"
   ]
  },
  {
   "cell_type": "code",
   "execution_count": null,
   "id": "48bdcc38",
   "metadata": {},
   "outputs": [],
   "source": [
    "# Fit Prophet model\n",
    "m = Prophet(yearly_seasonality=True, weekly_seasonality=False, daily_seasonality=False)\n",
    "m.fit(monthly.rename(columns={'ds':'ds','Revenue':'y'}))\n",
    "future = m.make_future_dataframe(periods=6, freq='M')\n",
    "forecast = m.predict(future)\n",
    "forecast[['ds','yhat','yhat_lower','yhat_upper']].tail(10)"
   ]
  },
  {
   "cell_type": "markdown",
   "id": "cadc41be",
   "metadata": {},
   "source": [
    "## ARIMA fallback (pmdarima)\n",
    "If Prophet isn't available, you can use pmdarima for automatic SARIMA selection."
   ]
  },
  {
   "cell_type": "code",
   "execution_count": null,
   "id": "16ca7e75",
   "metadata": {},
   "outputs": [],
   "source": [
    "from pmdarima import auto_arima\n",
    "series = monthly.set_index('ds')['Revenue']\n",
    "model = auto_arima(series, seasonal=True, m=12, trace=True, error_action='ignore')\n",
    "model.summary()"
   ]
  },
  {
   "cell_type": "code",
   "execution_count": null,
   "id": "5a73161e",
   "metadata": {},
   "outputs": [],
   "source": [
    "# Forecast with ARIMA\n",
    "n_periods = 6\n",
    "arima_forecast = model.predict(n_periods=n_periods)\n",
    "last_date = series.index.max()\n",
    "future_index = pd.date_range(last_date + pd.offsets.MonthBegin(1), periods=n_periods, freq='M')\n",
    "arima_df = pd.DataFrame({'ds': future_index, 'yhat': arima_forecast})\n",
    "arima_df"
   ]
  },
  {
   "cell_type": "markdown",
   "id": "b8b25ae3",
   "metadata": {},
   "source": [
    "## Save forecasts to CSV for dashboard"
   ]
  },
  {
   "cell_type": "code",
   "execution_count": null,
   "id": "f7cde13f",
   "metadata": {},
   "outputs": [],
   "source": [
    "forecast[['ds','yhat','yhat_lower','yhat_upper']].to_csv('stallion_prophet_forecast.csv', index=False)\n",
    "arima_df.to_csv('stallion_arima_forecast.csv', index=False)\n",
    "print('Saved forecasts')"
   ]
  }
 ],
 "metadata": {},
 "nbformat": 4,
 "nbformat_minor": 5
}
