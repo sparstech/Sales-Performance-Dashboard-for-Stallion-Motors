{
 "cells": [
  {
   "cell_type": "markdown",
   "id": "16f04eb4",
   "metadata": {},
   "source": [
    "# Stallion Motors — Sales Analysis\n",
    "\n",
    "This notebook performs EDA and prepares the data for the Streamlit dashboard."
   ]
  },
  {
   "cell_type": "code",
   "execution_count": null,
   "id": "52df7443",
   "metadata": {},
   "outputs": [],
   "source": [
    "import pandas as pd\n",
    "import numpy as np\n",
    "from datetime import datetime\n",
    "pd.set_option('display.max_columns', None)\n",
    "\n",
    "# Load data\n",
    "df = pd.read_csv('stallion_sales_data.csv', parse_dates=['Date'])\n",
    "df['Year'] = df['Date'].dt.year\n",
    "df['Month'] = df['Date'].dt.month\n",
    "\n",
    "df.head()"
   ]
  },
  {
   "cell_type": "markdown",
   "id": "ac3fa56d",
   "metadata": {},
   "source": [
    "## Key KPI Calculations"
   ]
  },
  {
   "cell_type": "code",
   "execution_count": null,
   "id": "2fade5bb",
   "metadata": {},
   "outputs": [],
   "source": [
    "total_revenue = (df['Price'] * df['Quantity']).sum()\n",
    "total_units = df['Quantity'].sum()\n",
    "avg_price = (df['Price'] * df['Quantity']).sum() / total_units\n",
    "total_profit = df['Profit'].sum()\n",
    "\n",
    "total_revenue, total_units, avg_price, total_profit"
   ]
  },
  {
   "cell_type": "markdown",
   "id": "d18be2b5",
   "metadata": {},
   "source": [
    "## Monthly Aggregation (for trends and forecasting input)"
   ]
  },
  {
   "cell_type": "code",
   "execution_count": null,
   "id": "45cb85fb",
   "metadata": {},
   "outputs": [],
   "source": [
    "monthly = df.groupby(pd.Grouper(key='Date', freq='M')).agg(\n",
    "    Revenue=('Price', 'sum'),\n",
    "    Units=('Quantity', 'sum'),\n",
    "    Profit=('Profit', 'sum')\n",
    ").reset_index()\n",
    "monthly['ds'] = monthly['Date']\n",
    "monthly = monthly[['ds','Revenue','Units','Profit']]\n",
    "monthly.head()"
   ]
  },
  {
   "cell_type": "markdown",
   "id": "c677a8e0",
   "metadata": {},
   "source": [
    "## Top Models and Top Salespersons"
   ]
  },
  {
   "cell_type": "code",
   "execution_count": null,
   "id": "a16f679b",
   "metadata": {},
   "outputs": [],
   "source": [
    "top_models = df.groupby('Vehicle_Model').agg(Revenue=('Price','sum'), Units=('Quantity','sum'), Profit=('Profit','sum')).sort_values('Revenue', ascending=False).head(10)\n",
    "top_sales = df.groupby('Salesperson').agg(Revenue=('Price','sum'), Units=('Quantity','sum'), Profit=('Profit','sum')).sort_values('Revenue', ascending=False).head(10)\n",
    "\n",
    "print(top_models)\n",
    "print('\\n')\n",
    "print(top_sales)"
   ]
  },
  {
   "cell_type": "markdown",
   "id": "a6958c7c",
   "metadata": {},
   "source": [
    "## Save processed monthly file for dashboard/forecasting"
   ]
  },
  {
   "cell_type": "code",
   "execution_count": null,
   "id": "199370e8",
   "metadata": {},
   "outputs": [],
   "source": [
    "monthly.to_csv('stallion_monthly_agg.csv', index=False)\n",
    "print('Saved stallion_monthly_agg.csv')"
   ]
  },
  {
   "cell_type": "markdown",
   "id": "cda6e575",
   "metadata": {},
   "source": [
    "## Notes\n",
    "- This notebook prepares the dataset for the Streamlit dashboard (`app.py`) and for forecasting. \n",
    "- For forecasting we recommend using Prophet (install with `pip install prophet`) or an ARIMA pipeline as fallback."
   ]
  }
 ],
 "metadata": {},
 "nbformat": 4,
 "nbformat_minor": 5
}
